{
  "nbformat": 4,
  "nbformat_minor": 0,
  "metadata": {
    "colab": {
      "provenance": [],
      "collapsed_sections": [],
      "authorship_tag": "ABX9TyNU7ZH1uy6fonGyiVjX5SQr",
      "include_colab_link": true
    },
    "kernelspec": {
      "name": "python3",
      "display_name": "Python 3"
    },
    "language_info": {
      "name": "python"
    }
  },
  "cells": [
    {
      "cell_type": "markdown",
      "metadata": {
        "id": "view-in-github",
        "colab_type": "text"
      },
      "source": [
        "<a href=\"https://colab.research.google.com/github/ollihansen90/Mathe-SH-ZRA/blob/main/NamensEntropie.ipynb\" target=\"_parent\"><img src=\"https://colab.research.google.com/assets/colab-badge.svg\" alt=\"Open In Colab\"/></a>"
      ]
    },
    {
      "cell_type": "code",
      "execution_count": 2,
      "metadata": {
        "id": "AZPn2I_LmUFx"
      },
      "outputs": [],
      "source": [
        "import sys, os\n",
        "# Lade \n",
        "if \"google.colab\" in sys.modules:\n",
        "    if os.getcwd() == \"/content\":\n",
        "        !git clone \"https://github.com/ollihansen90/Mathe-SH-ZRA.git\"\n",
        "        os.chdir(\"Mathe-SH-ZRA\")\n",
        "\n",
        "from utils import entropy, get_histogramm\n",
        "import numpy as np\n",
        "import matplotlib.pyplot as plt\n",
        "\n",
        "def clean(name):\n",
        "    output = \"\"\n",
        "    for b in name:\n",
        "        if b.upper() in \"ABCDEFGHIJKLMNOPQRSTUVXYZ\":\n",
        "            output += b.upper()\n",
        "    return output"
      ]
    },
    {
      "cell_type": "code",
      "source": [
        "# --- NAME ---\n",
        "name = \"Olli Hansen\"\n",
        "# ------------\n",
        "\n",
        "name = clean(name)\n",
        "values = [ord(b.upper())-65 for b in name]\n",
        "histogramm = get_histogramm(values, 26)\n",
        "entr = entropy(histogramm)\n",
        "print(f\"Die relative Entropy beträgt {round(entr[0]/entr[1], 4)}.\")\n",
        "plt.figure()\n",
        "plt.bar(list(range(26)), histogramm)\n",
        "plt.show()"
      ],
      "metadata": {
        "colab": {
          "base_uri": "https://localhost:8080/",
          "height": 282
        },
        "id": "FTDOmozjmk7h",
        "outputId": "fbe5f928-e656-4d42-e9e6-7d588286f492"
      },
      "execution_count": 12,
      "outputs": [
        {
          "output_type": "stream",
          "name": "stdout",
          "text": [
            "Die relative Entropy beträgt 0.8796.\n"
          ]
        },
        {
          "output_type": "display_data",
          "data": {
            "text/plain": [
              "<Figure size 432x288 with 1 Axes>"
            ],
            "image/png": "[encoded data removed]"
          },
          "metadata": {
            "needs_background": "light"
          }
        }
      ]
    }
  ]
}